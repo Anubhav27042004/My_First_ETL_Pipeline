{
 "cells": [
  {
   "cell_type": "code",
   "execution_count": 25,
   "id": "55491296",
   "metadata": {},
   "outputs": [],
   "source": [
    "import pandas as pd\n",
    "\n",
    "import numpy as np\n",
    "import matplotlib.pyplot as plt\n",
    "import seaborn as sns\n",
    "\n",
    "import warnings\n",
    "warnings.filterwarnings('ignore')"
   ]
  },
  {
   "cell_type": "code",
   "execution_count": 26,
   "id": "c9d2a71f",
   "metadata": {},
   "outputs": [],
   "source": [
    "data=pd.read_csv('Warehouse_and_Retail_Sales.csv')"
   ]
  },
  {
   "cell_type": "code",
   "execution_count": 27,
   "id": "1cf3b6ea",
   "metadata": {},
   "outputs": [
    {
     "name": "stdout",
     "output_type": "stream",
     "text": [
      "head is \n",
      "    YEAR  MONTH                           SUPPLIER ITEM CODE  \\\n",
      "0  2020      1  REPUBLIC NATIONAL DISTRIBUTING CO    100009   \n",
      "1  2020      1                          PWSWN INC    100024   \n",
      "2  2020      1            RELIABLE CHURCHILL LLLP      1001   \n",
      "3  2020      1          LANTERNA DISTRIBUTORS INC    100145   \n",
      "4  2020      1               DIONYSOS IMPORTS INC    100293   \n",
      "\n",
      "                      ITEM DESCRIPTION ITEM TYPE  RETAIL SALES  \\\n",
      "0                  BOOTLEG RED - 750ML      WINE          0.00   \n",
      "1            MOMENT DE PLAISIR - 750ML      WINE          0.00   \n",
      "2  S SMITH ORGANIC PEAR CIDER - 18.7OZ      BEER          0.00   \n",
      "3        SCHLINK HAUS KABINETT - 750ML      WINE          0.00   \n",
      "4       SANTORINI GAVALA WHITE - 750ML      WINE          0.82   \n",
      "\n",
      "   RETAIL TRANSFERS  WAREHOUSE SALES  \n",
      "0               0.0              2.0  \n",
      "1               1.0              4.0  \n",
      "2               0.0              1.0  \n",
      "3               0.0              1.0  \n",
      "4               0.0              0.0  \n"
     ]
    }
   ],
   "source": [
    "print(\"head is \\n\",data.head(5))"
   ]
  },
  {
   "cell_type": "code",
   "execution_count": 28,
   "id": "b883e2a3",
   "metadata": {},
   "outputs": [
    {
     "data": {
      "text/html": [
       "<div>\n",
       "<style scoped>\n",
       "    .dataframe tbody tr th:only-of-type {\n",
       "        vertical-align: middle;\n",
       "    }\n",
       "\n",
       "    .dataframe tbody tr th {\n",
       "        vertical-align: top;\n",
       "    }\n",
       "\n",
       "    .dataframe thead th {\n",
       "        text-align: right;\n",
       "    }\n",
       "</style>\n",
       "<table border=\"1\" class=\"dataframe\">\n",
       "  <thead>\n",
       "    <tr style=\"text-align: right;\">\n",
       "      <th></th>\n",
       "      <th>YEAR</th>\n",
       "      <th>MONTH</th>\n",
       "      <th>RETAIL SALES</th>\n",
       "      <th>RETAIL TRANSFERS</th>\n",
       "      <th>WAREHOUSE SALES</th>\n",
       "    </tr>\n",
       "  </thead>\n",
       "  <tbody>\n",
       "    <tr>\n",
       "      <th>count</th>\n",
       "      <td>307645.000000</td>\n",
       "      <td>307645.000000</td>\n",
       "      <td>307642.000000</td>\n",
       "      <td>307645.000000</td>\n",
       "      <td>307645.000000</td>\n",
       "    </tr>\n",
       "    <tr>\n",
       "      <th>mean</th>\n",
       "      <td>2018.438525</td>\n",
       "      <td>6.423862</td>\n",
       "      <td>7.024071</td>\n",
       "      <td>6.936465</td>\n",
       "      <td>25.294597</td>\n",
       "    </tr>\n",
       "    <tr>\n",
       "      <th>std</th>\n",
       "      <td>1.083061</td>\n",
       "      <td>3.461812</td>\n",
       "      <td>30.986238</td>\n",
       "      <td>30.237195</td>\n",
       "      <td>249.916798</td>\n",
       "    </tr>\n",
       "    <tr>\n",
       "      <th>min</th>\n",
       "      <td>2017.000000</td>\n",
       "      <td>1.000000</td>\n",
       "      <td>-6.490000</td>\n",
       "      <td>-38.490000</td>\n",
       "      <td>-7800.000000</td>\n",
       "    </tr>\n",
       "    <tr>\n",
       "      <th>25%</th>\n",
       "      <td>2017.000000</td>\n",
       "      <td>3.000000</td>\n",
       "      <td>0.000000</td>\n",
       "      <td>0.000000</td>\n",
       "      <td>0.000000</td>\n",
       "    </tr>\n",
       "    <tr>\n",
       "      <th>50%</th>\n",
       "      <td>2019.000000</td>\n",
       "      <td>7.000000</td>\n",
       "      <td>0.320000</td>\n",
       "      <td>0.000000</td>\n",
       "      <td>1.000000</td>\n",
       "    </tr>\n",
       "    <tr>\n",
       "      <th>75%</th>\n",
       "      <td>2019.000000</td>\n",
       "      <td>9.000000</td>\n",
       "      <td>3.267500</td>\n",
       "      <td>3.000000</td>\n",
       "      <td>5.000000</td>\n",
       "    </tr>\n",
       "    <tr>\n",
       "      <th>max</th>\n",
       "      <td>2020.000000</td>\n",
       "      <td>12.000000</td>\n",
       "      <td>2739.000000</td>\n",
       "      <td>1990.830000</td>\n",
       "      <td>18317.000000</td>\n",
       "    </tr>\n",
       "  </tbody>\n",
       "</table>\n",
       "</div>"
      ],
      "text/plain": [
       "                YEAR          MONTH   RETAIL SALES  RETAIL TRANSFERS  \\\n",
       "count  307645.000000  307645.000000  307642.000000     307645.000000   \n",
       "mean     2018.438525       6.423862       7.024071          6.936465   \n",
       "std         1.083061       3.461812      30.986238         30.237195   \n",
       "min      2017.000000       1.000000      -6.490000        -38.490000   \n",
       "25%      2017.000000       3.000000       0.000000          0.000000   \n",
       "50%      2019.000000       7.000000       0.320000          0.000000   \n",
       "75%      2019.000000       9.000000       3.267500          3.000000   \n",
       "max      2020.000000      12.000000    2739.000000       1990.830000   \n",
       "\n",
       "       WAREHOUSE SALES  \n",
       "count    307645.000000  \n",
       "mean         25.294597  \n",
       "std         249.916798  \n",
       "min       -7800.000000  \n",
       "25%           0.000000  \n",
       "50%           1.000000  \n",
       "75%           5.000000  \n",
       "max       18317.000000  "
      ]
     },
     "execution_count": 28,
     "metadata": {},
     "output_type": "execute_result"
    }
   ],
   "source": [
    "data.describe()"
   ]
  },
  {
   "cell_type": "code",
   "execution_count": 29,
   "id": "6b5ea575",
   "metadata": {},
   "outputs": [
    {
     "data": {
      "text/html": [
       "<div>\n",
       "<style scoped>\n",
       "    .dataframe tbody tr th:only-of-type {\n",
       "        vertical-align: middle;\n",
       "    }\n",
       "\n",
       "    .dataframe tbody tr th {\n",
       "        vertical-align: top;\n",
       "    }\n",
       "\n",
       "    .dataframe thead th {\n",
       "        text-align: right;\n",
       "    }\n",
       "</style>\n",
       "<table border=\"1\" class=\"dataframe\">\n",
       "  <thead>\n",
       "    <tr style=\"text-align: right;\">\n",
       "      <th></th>\n",
       "      <th>YEAR</th>\n",
       "      <th>MONTH</th>\n",
       "      <th>SUPPLIER</th>\n",
       "      <th>ITEM CODE</th>\n",
       "      <th>ITEM DESCRIPTION</th>\n",
       "      <th>ITEM TYPE</th>\n",
       "      <th>RETAIL SALES</th>\n",
       "      <th>RETAIL TRANSFERS</th>\n",
       "      <th>WAREHOUSE SALES</th>\n",
       "    </tr>\n",
       "  </thead>\n",
       "  <tbody>\n",
       "    <tr>\n",
       "      <th>0</th>\n",
       "      <td>False</td>\n",
       "      <td>False</td>\n",
       "      <td>False</td>\n",
       "      <td>False</td>\n",
       "      <td>False</td>\n",
       "      <td>False</td>\n",
       "      <td>False</td>\n",
       "      <td>False</td>\n",
       "      <td>False</td>\n",
       "    </tr>\n",
       "    <tr>\n",
       "      <th>1</th>\n",
       "      <td>False</td>\n",
       "      <td>False</td>\n",
       "      <td>False</td>\n",
       "      <td>False</td>\n",
       "      <td>False</td>\n",
       "      <td>False</td>\n",
       "      <td>False</td>\n",
       "      <td>False</td>\n",
       "      <td>False</td>\n",
       "    </tr>\n",
       "    <tr>\n",
       "      <th>2</th>\n",
       "      <td>False</td>\n",
       "      <td>False</td>\n",
       "      <td>False</td>\n",
       "      <td>False</td>\n",
       "      <td>False</td>\n",
       "      <td>False</td>\n",
       "      <td>False</td>\n",
       "      <td>False</td>\n",
       "      <td>False</td>\n",
       "    </tr>\n",
       "    <tr>\n",
       "      <th>3</th>\n",
       "      <td>False</td>\n",
       "      <td>False</td>\n",
       "      <td>False</td>\n",
       "      <td>False</td>\n",
       "      <td>False</td>\n",
       "      <td>False</td>\n",
       "      <td>False</td>\n",
       "      <td>False</td>\n",
       "      <td>False</td>\n",
       "    </tr>\n",
       "    <tr>\n",
       "      <th>4</th>\n",
       "      <td>False</td>\n",
       "      <td>False</td>\n",
       "      <td>False</td>\n",
       "      <td>False</td>\n",
       "      <td>False</td>\n",
       "      <td>False</td>\n",
       "      <td>False</td>\n",
       "      <td>False</td>\n",
       "      <td>False</td>\n",
       "    </tr>\n",
       "    <tr>\n",
       "      <th>...</th>\n",
       "      <td>...</td>\n",
       "      <td>...</td>\n",
       "      <td>...</td>\n",
       "      <td>...</td>\n",
       "      <td>...</td>\n",
       "      <td>...</td>\n",
       "      <td>...</td>\n",
       "      <td>...</td>\n",
       "      <td>...</td>\n",
       "    </tr>\n",
       "    <tr>\n",
       "      <th>307640</th>\n",
       "      <td>False</td>\n",
       "      <td>False</td>\n",
       "      <td>False</td>\n",
       "      <td>False</td>\n",
       "      <td>False</td>\n",
       "      <td>False</td>\n",
       "      <td>False</td>\n",
       "      <td>False</td>\n",
       "      <td>False</td>\n",
       "    </tr>\n",
       "    <tr>\n",
       "      <th>307641</th>\n",
       "      <td>False</td>\n",
       "      <td>False</td>\n",
       "      <td>False</td>\n",
       "      <td>False</td>\n",
       "      <td>False</td>\n",
       "      <td>False</td>\n",
       "      <td>False</td>\n",
       "      <td>False</td>\n",
       "      <td>False</td>\n",
       "    </tr>\n",
       "    <tr>\n",
       "      <th>307642</th>\n",
       "      <td>False</td>\n",
       "      <td>False</td>\n",
       "      <td>False</td>\n",
       "      <td>False</td>\n",
       "      <td>False</td>\n",
       "      <td>False</td>\n",
       "      <td>False</td>\n",
       "      <td>False</td>\n",
       "      <td>False</td>\n",
       "    </tr>\n",
       "    <tr>\n",
       "      <th>307643</th>\n",
       "      <td>False</td>\n",
       "      <td>False</td>\n",
       "      <td>False</td>\n",
       "      <td>False</td>\n",
       "      <td>False</td>\n",
       "      <td>False</td>\n",
       "      <td>False</td>\n",
       "      <td>False</td>\n",
       "      <td>False</td>\n",
       "    </tr>\n",
       "    <tr>\n",
       "      <th>307644</th>\n",
       "      <td>False</td>\n",
       "      <td>False</td>\n",
       "      <td>True</td>\n",
       "      <td>False</td>\n",
       "      <td>False</td>\n",
       "      <td>False</td>\n",
       "      <td>False</td>\n",
       "      <td>False</td>\n",
       "      <td>False</td>\n",
       "    </tr>\n",
       "  </tbody>\n",
       "</table>\n",
       "<p>307645 rows × 9 columns</p>\n",
       "</div>"
      ],
      "text/plain": [
       "         YEAR  MONTH  SUPPLIER  ITEM CODE  ITEM DESCRIPTION  ITEM TYPE  \\\n",
       "0       False  False     False      False             False      False   \n",
       "1       False  False     False      False             False      False   \n",
       "2       False  False     False      False             False      False   \n",
       "3       False  False     False      False             False      False   \n",
       "4       False  False     False      False             False      False   \n",
       "...       ...    ...       ...        ...               ...        ...   \n",
       "307640  False  False     False      False             False      False   \n",
       "307641  False  False     False      False             False      False   \n",
       "307642  False  False     False      False             False      False   \n",
       "307643  False  False     False      False             False      False   \n",
       "307644  False  False      True      False             False      False   \n",
       "\n",
       "        RETAIL SALES  RETAIL TRANSFERS  WAREHOUSE SALES  \n",
       "0              False             False            False  \n",
       "1              False             False            False  \n",
       "2              False             False            False  \n",
       "3              False             False            False  \n",
       "4              False             False            False  \n",
       "...              ...               ...              ...  \n",
       "307640         False             False            False  \n",
       "307641         False             False            False  \n",
       "307642         False             False            False  \n",
       "307643         False             False            False  \n",
       "307644         False             False            False  \n",
       "\n",
       "[307645 rows x 9 columns]"
      ]
     },
     "execution_count": 29,
     "metadata": {},
     "output_type": "execute_result"
    }
   ],
   "source": [
    "data.isnull()"
   ]
  },
  {
   "cell_type": "code",
   "execution_count": 30,
   "id": "08c7c2f0",
   "metadata": {},
   "outputs": [
    {
     "data": {
      "text/plain": [
       "YEAR                  0\n",
       "MONTH                 0\n",
       "SUPPLIER            167\n",
       "ITEM CODE             0\n",
       "ITEM DESCRIPTION      0\n",
       "ITEM TYPE             1\n",
       "RETAIL SALES          3\n",
       "RETAIL TRANSFERS      0\n",
       "WAREHOUSE SALES       0\n",
       "dtype: int64"
      ]
     },
     "execution_count": 30,
     "metadata": {},
     "output_type": "execute_result"
    }
   ],
   "source": [
    "data.isnull().sum()"
   ]
  },
  {
   "cell_type": "code",
   "execution_count": 31,
   "id": "03315fe6",
   "metadata": {},
   "outputs": [
    {
     "data": {
      "text/plain": [
       "(307645, 9)"
      ]
     },
     "execution_count": 31,
     "metadata": {},
     "output_type": "execute_result"
    }
   ],
   "source": [
    "data.shape"
   ]
  },
  {
   "cell_type": "code",
   "execution_count": 32,
   "id": "044091e4",
   "metadata": {},
   "outputs": [
    {
     "data": {
      "text/plain": [
       "Index(['YEAR', 'MONTH', 'SUPPLIER', 'ITEM CODE', 'ITEM DESCRIPTION',\n",
       "       'ITEM TYPE', 'RETAIL SALES', 'RETAIL TRANSFERS', 'WAREHOUSE SALES'],\n",
       "      dtype='object')"
      ]
     },
     "execution_count": 32,
     "metadata": {},
     "output_type": "execute_result"
    }
   ],
   "source": [
    "data.columns"
   ]
  },
  {
   "cell_type": "code",
   "execution_count": null,
   "id": "9bdeee32",
   "metadata": {},
   "outputs": [],
   "source": [
    "df=data.dropna()"
   ]
  },
  {
   "cell_type": "code",
   "execution_count": 34,
   "id": "7860f53d",
   "metadata": {},
   "outputs": [
    {
     "data": {
      "text/plain": [
       "YEAR                0\n",
       "MONTH               0\n",
       "SUPPLIER            0\n",
       "ITEM CODE           0\n",
       "ITEM DESCRIPTION    0\n",
       "ITEM TYPE           0\n",
       "RETAIL SALES        0\n",
       "RETAIL TRANSFERS    0\n",
       "WAREHOUSE SALES     0\n",
       "dtype: int64"
      ]
     },
     "execution_count": 34,
     "metadata": {},
     "output_type": "execute_result"
    }
   ],
   "source": [
    "df.isnull().sum()"
   ]
  },
  {
   "cell_type": "code",
   "execution_count": 35,
   "id": "56d66232",
   "metadata": {},
   "outputs": [
    {
     "data": {
      "text/plain": [
       "(307477, 9)"
      ]
     },
     "execution_count": 35,
     "metadata": {},
     "output_type": "execute_result"
    }
   ],
   "source": [
    "df.shape"
   ]
  },
  {
   "cell_type": "code",
   "execution_count": 36,
   "id": "7b2afd01",
   "metadata": {},
   "outputs": [
    {
     "name": "stdout",
     "output_type": "stream",
     "text": [
      "Requirement already satisfied: mysql-connector-python in c:\\users\\abc\\appdata\\local\\programs\\python\\python38\\lib\\site-packages (9.0.0)\n",
      "Note: you may need to restart the kernel to use updated packages.\n"
     ]
    },
    {
     "name": "stderr",
     "output_type": "stream",
     "text": [
      "WARNING: Ignoring invalid distribution -andas (c:\\users\\abc\\appdata\\local\\programs\\python\\python38\\lib\\site-packages)\n",
      "WARNING: Ignoring invalid distribution -umpy (c:\\users\\abc\\appdata\\local\\programs\\python\\python38\\lib\\site-packages)\n",
      "WARNING: Ignoring invalid distribution -andas (c:\\users\\abc\\appdata\\local\\programs\\python\\python38\\lib\\site-packages)\n",
      "WARNING: Ignoring invalid distribution -umpy (c:\\users\\abc\\appdata\\local\\programs\\python\\python38\\lib\\site-packages)\n",
      "WARNING: Ignoring invalid distribution -andas (c:\\users\\abc\\appdata\\local\\programs\\python\\python38\\lib\\site-packages)\n",
      "WARNING: Ignoring invalid distribution -umpy (c:\\users\\abc\\appdata\\local\\programs\\python\\python38\\lib\\site-packages)\n"
     ]
    }
   ],
   "source": [
    "pip install mysql-connector-python\n"
   ]
  },
  {
   "cell_type": "code",
   "execution_count": 37,
   "id": "0d1d5cdf",
   "metadata": {},
   "outputs": [],
   "source": [
    "import mysql.connector"
   ]
  },
  {
   "cell_type": "code",
   "execution_count": 38,
   "id": "20284e53",
   "metadata": {},
   "outputs": [],
   "source": [
    "connection = mysql.connector.connect(\n",
    "    host='localhost',\n",
    "    user='root',             \n",
    "    password='Anubhav@2704',\n",
    "    database='wipro'\n",
    ")\n"
   ]
  },
  {
   "cell_type": "code",
   "execution_count": 39,
   "id": "514d21c8",
   "metadata": {},
   "outputs": [],
   "source": [
    "cursor = connection.cursor()"
   ]
  },
  {
   "cell_type": "code",
   "execution_count": 40,
   "id": "764295db",
   "metadata": {},
   "outputs": [
    {
     "data": {
      "text/plain": [
       "Index(['YEAR', 'MONTH', 'SUPPLIER', 'ITEM CODE', 'ITEM DESCRIPTION',\n",
       "       'ITEM TYPE', 'RETAIL SALES', 'RETAIL TRANSFERS', 'WAREHOUSE SALES'],\n",
       "      dtype='object')"
      ]
     },
     "execution_count": 40,
     "metadata": {},
     "output_type": "execute_result"
    }
   ],
   "source": [
    "df.columns"
   ]
  },
  {
   "cell_type": "code",
   "execution_count": 41,
   "id": "efb3d5ef",
   "metadata": {},
   "outputs": [
    {
     "name": "stdout",
     "output_type": "stream",
     "text": [
      "<class 'pandas.core.frame.DataFrame'>\n",
      "Int64Index: 307477 entries, 0 to 307643\n",
      "Data columns (total 9 columns):\n",
      " #   Column            Non-Null Count   Dtype  \n",
      "---  ------            --------------   -----  \n",
      " 0   YEAR              307477 non-null  int64  \n",
      " 1   MONTH             307477 non-null  int64  \n",
      " 2   SUPPLIER          307477 non-null  object \n",
      " 3   ITEM CODE         307477 non-null  object \n",
      " 4   ITEM DESCRIPTION  307477 non-null  object \n",
      " 5   ITEM TYPE         307477 non-null  object \n",
      " 6   RETAIL SALES      307477 non-null  float64\n",
      " 7   RETAIL TRANSFERS  307477 non-null  float64\n",
      " 8   WAREHOUSE SALES   307477 non-null  float64\n",
      "dtypes: float64(3), int64(2), object(4)\n",
      "memory usage: 23.5+ MB\n"
     ]
    }
   ],
   "source": [
    "df.info()"
   ]
  },
  {
   "cell_type": "code",
   "execution_count": 42,
   "id": "98580f89",
   "metadata": {},
   "outputs": [],
   "source": [
    "df.columns = df.columns.str.strip().str.lower()\n"
   ]
  },
  {
   "cell_type": "code",
   "execution_count": 43,
   "id": "754f0c52",
   "metadata": {},
   "outputs": [
    {
     "data": {
      "text/plain": [
       "Index(['year', 'month', 'supplier', 'item code', 'item description',\n",
       "       'item type', 'retail sales', 'retail transfers', 'warehouse sales'],\n",
       "      dtype='object')"
      ]
     },
     "execution_count": 43,
     "metadata": {},
     "output_type": "execute_result"
    }
   ],
   "source": [
    "df.columns\n"
   ]
  },
  {
   "cell_type": "code",
   "execution_count": 44,
   "id": "3fb96c85",
   "metadata": {},
   "outputs": [],
   "source": [
    "df.rename(columns={\n",
    "    'item code': 'item_code',\n",
    "    'item description': 'item_description',\n",
    "    'item type': 'item_type',\n",
    "    'retail sales': 'retail_sales',\n",
    "    'retail transfers': 'retail_transfers',\n",
    "    'warehouse sales': 'warehouse_sales'\n",
    "}, inplace=True)"
   ]
  },
  {
   "cell_type": "code",
   "execution_count": 45,
   "id": "378a0a2e",
   "metadata": {},
   "outputs": [
    {
     "data": {
      "text/plain": [
       "Index(['year', 'month', 'supplier', 'item_code', 'item_description',\n",
       "       'item_type', 'retail_sales', 'retail_transfers', 'warehouse_sales'],\n",
       "      dtype='object')"
      ]
     },
     "execution_count": 45,
     "metadata": {},
     "output_type": "execute_result"
    }
   ],
   "source": [
    "df.columns"
   ]
  },
  {
   "cell_type": "code",
   "execution_count": 46,
   "id": "25d0053d",
   "metadata": {},
   "outputs": [],
   "source": [
    "create_table_query = '''\n",
    "CREATE TABLE IF NOT EXISTS sales (\n",
    "    order_id INT AUTO_INCREMENT PRIMARY KEY,\n",
    "    year INT,\n",
    "    month INT,\n",
    "    supplier VARCHAR(100),\n",
    "    item_code VARCHAR(100),\n",
    "    item_description VARCHAR(255),\n",
    "    item_type VARCHAR(100),\n",
    "    retail_sales FLOAT,\n",
    "    retail_transfers FLOAT,\n",
    "    warehouse_sales FLOAT\n",
    ")\n",
    "'''\n",
    "cursor.execute(create_table_query)\n"
   ]
  },
  {
   "cell_type": "code",
   "execution_count": 47,
   "id": "df30e04f",
   "metadata": {},
   "outputs": [],
   "source": [
    "insert_query = '''\n",
    "INSERT INTO sales (\n",
    "    year, month, supplier, item_code,\n",
    "    item_description, item_type,\n",
    "    retail_sales, retail_transfers, warehouse_sales\n",
    ") VALUES (%s, %s, %s, %s, %s, %s, %s, %s, %s)\n",
    "'''\n",
    "\n",
    "for _, row in df.iterrows():\n",
    "    values = (\n",
    "        row['year'],\n",
    "        row['month'],\n",
    "        row['supplier'],\n",
    "        row['item_code'],\n",
    "        row['item_description'],\n",
    "        row['item_type'],\n",
    "        row['retail_sales'],\n",
    "        row['retail_transfers'],\n",
    "        row['warehouse_sales']\n",
    "    )\n",
    "    cursor.execute(insert_query, values)\n",
    "\n",
    "connection.commit()\n"
   ]
  },
  {
   "cell_type": "code",
   "execution_count": null,
   "id": "3bdc11f7",
   "metadata": {},
   "outputs": [],
   "source": []
  },
  {
   "cell_type": "code",
   "execution_count": null,
   "id": "6fe1867b",
   "metadata": {},
   "outputs": [],
   "source": []
  }
 ],
 "metadata": {
  "kernelspec": {
   "display_name": "Python 3",
   "language": "python",
   "name": "python3"
  },
  "language_info": {
   "codemirror_mode": {
    "name": "ipython",
    "version": 3
   },
   "file_extension": ".py",
   "mimetype": "text/x-python",
   "name": "python",
   "nbconvert_exporter": "python",
   "pygments_lexer": "ipython3",
   "version": "3.8.10"
  }
 },
 "nbformat": 4,
 "nbformat_minor": 5
}
